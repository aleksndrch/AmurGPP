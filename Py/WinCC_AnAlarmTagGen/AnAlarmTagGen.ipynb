{
 "cells": [
  {
   "cell_type": "code",
   "execution_count": 1,
   "metadata": {},
   "outputs": [],
   "source": [
    "PVPostfix = \".PV_Out#Value\"\n",
    "AWPostfix = ['.PV_AH_Lim', '.PV_WH_Lim', '.PV_WL_Lim', '.PV_AL_Lim']\n",
    "OutputPVsArr = []\n",
    "OutputPVArr = []\n",
    "OutputAWArr = []\n",
    "OutputVar=[]\n",
    "\n",
    "with open('TagNames.txt','r') as f:\n",
    "    PrefixArr = [line.strip() for line in f]\n",
    "\n",
    "for i in range(0,len(PrefixArr),1):\n",
    "    OutputPVsArr.append(PrefixArr[i]+PVPostfix)\n",
    "    for j in range(0,len(AWPostfix),1):\n",
    "        OutputAWArr.append(PrefixArr[i]+AWPostfix[j])\n",
    "        OutputPVArr.append(PrefixArr[i]+PVPostfix)\n",
    "        \n",
    "with open('OutTagPV.txt','w') as f:\n",
    "    for i in range(0,len(OutputPVArr),1):\n",
    "        f.write(OutputPVArr[i] + '\\n')\n",
    "        \n",
    "with open('OutTagPVs.txt','w') as f:\n",
    "    for i in range(0,len(OutputPVsArr),1):\n",
    "        f.write(OutputPVsArr[i] + '\\n')\n",
    "        \n",
    "with open('OutTagWH.txt','w') as f:\n",
    "    for i in range(0,len(OutputPVArr),1):\n",
    "        f.write(OutputAWArr[i] + '\\n')     "
   ]
  }
 ],
 "metadata": {
  "kernelspec": {
   "display_name": "Python 3",
   "language": "python",
   "name": "python3"
  },
  "language_info": {
   "codemirror_mode": {
    "name": "ipython",
    "version": 3
   },
   "file_extension": ".py",
   "mimetype": "text/x-python",
   "name": "python",
   "nbconvert_exporter": "python",
   "pygments_lexer": "ipython3",
   "version": "3.6.4"
  }
 },
 "nbformat": 4,
 "nbformat_minor": 2
}
