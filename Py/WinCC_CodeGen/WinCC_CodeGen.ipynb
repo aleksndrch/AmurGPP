{
 "cells": [
  {
   "cell_type": "code",
   "execution_count": 16,
   "metadata": {},
   "outputs": [],
   "source": [
    "MBTag = []\n",
    "StructTag = []\n",
    "\n",
    "with open('MBTag.txt','r') as f:\n",
    "    MBTag = [line.strip() for line in f]\n",
    "    \n",
    "with open('StructTag.txt','r') as f:\n",
    "    StructTag = [line.strip() for line in f]\n",
    "    \n",
    "with open('COutput.txt','w') as f:\n",
    "    for i in range(0,len(MBTag),1):\n",
    "        f.write('//'+ StructTag[i] + '\\n')\n",
    "        f.write('SetTagFloat(\"' + StructTag[i] + '.PV_Out#Value\",(GetTagFloat(\"' + MBTag[i] + '\")));' + '\\n')\n",
    "        f.write('GetTagFloatStateQC(\"' + MBTag[i] + '\",&dwState,&dwQC);' + '\\n')\n",
    "        f.write('if(dwQC != OK){SetTagBit(\"' + StructTag[i] + '.TagQC\",1);}' + '\\n')\n",
    "        f.write('else{SetTagBit(\"' + StructTag[i] + '.TagQC\",0);}' + '\\n')"
   ]
  },
  {
   "cell_type": "code",
   "execution_count": 15,
   "metadata": {},
   "outputs": [
    {
     "name": "stdout",
     "output_type": "stream",
     "text": [
      "089-FT01 \t 089-FT001\n",
      "089-FT02 \t 089-FT002\n",
      "089-LT01 \t 089-LT001\n",
      "089-LT02 \t 089-LT002\n",
      "089-LT03 \t 089-LT003\n",
      "089-LT04 \t 089-LT004\n",
      "089-PT01 \t 089-PT001\n",
      "089-PT02 \t 089-PT002\n",
      "089-PT03 \t 089-PT003\n",
      "089-PT04 \t 089-PT004\n",
      "089-TT01 \t 089-TT001\n",
      "089-TT02 \t 089-TT002\n"
     ]
    }
   ],
   "source": [
    "for i in range(0, len(MBTag), 1):\n",
    "    print(MBTag[i], '\\t', StructTag[i])"
   ]
  },
  {
   "cell_type": "code",
   "execution_count": null,
   "metadata": {},
   "outputs": [],
   "source": []
  }
 ],
 "metadata": {
  "kernelspec": {
   "display_name": "Python 3",
   "language": "python",
   "name": "python3"
  },
  "language_info": {
   "codemirror_mode": {
    "name": "ipython",
    "version": 3
   },
   "file_extension": ".py",
   "mimetype": "text/x-python",
   "name": "python",
   "nbconvert_exporter": "python",
   "pygments_lexer": "ipython3",
   "version": "3.6.4"
  }
 },
 "nbformat": 4,
 "nbformat_minor": 2
}
